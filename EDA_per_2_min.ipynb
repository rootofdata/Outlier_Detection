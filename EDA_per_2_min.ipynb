{
  "nbformat": 4,
  "nbformat_minor": 0,
  "metadata": {
    "colab": {
      "name": "EDA per 2 min",
      "provenance": [],
      "authorship_tag": "ABX9TyNkHsJS5pjQi8I1ss+VhIAw",
      "include_colab_link": true
    },
    "kernelspec": {
      "name": "python3",
      "display_name": "Python 3"
    },
    "language_info": {
      "name": "python"
    }
  },
  "cells": [
    {
      "cell_type": "markdown",
      "metadata": {
        "id": "view-in-github",
        "colab_type": "text"
      },
      "source": [
        "<a href=\"https://colab.research.google.com/github/rootofdata/Outlier_Detection/blob/main/EDA_per_2_min.ipynb\" target=\"_parent\"><img src=\"https://colab.research.google.com/assets/colab-badge.svg\" alt=\"Open In Colab\"/></a>"
      ]
    },
    {
      "cell_type": "code",
      "execution_count": null,
      "metadata": {
        "colab": {
          "base_uri": "https://localhost:8080/"
        },
        "id": "e6h6y77mOeWc",
        "outputId": "0a177f3c-b27b-46e2-ed24-892c9b76830a"
      },
      "outputs": [
        {
          "output_type": "stream",
          "name": "stdout",
          "text": [
            "Mounted at /content/drive\n"
          ]
        }
      ],
      "source": [
        "from google.colab import drive\n",
        "drive.mount('/content/drive')"
      ]
    },
    {
      "cell_type": "code",
      "source": [
        "import pandas as pd\n",
        "df=pd.read_csv('/content/drive/MyDrive/Outlier Detection Paper (1)/data/구버전10000016-data-2022-04-11 10_23_42.csv')"
      ],
      "metadata": {
        "id": "vtUzPBuNOf58"
      },
      "execution_count": null,
      "outputs": []
    },
    {
      "cell_type": "code",
      "source": [
        "df['new_date'] = pd.to_datetime(df['time'])\n",
        "df['date'] = df['new_date'].dt.to_period(freq = 'min')  #분까지 끊기"
      ],
      "metadata": {
        "id": "7V2TuZccPg_m"
      },
      "execution_count": null,
      "outputs": []
    },
    {
      "cell_type": "code",
      "source": [
        "df"
      ],
      "metadata": {
        "colab": {
          "base_uri": "https://localhost:8080/",
          "height": 641
        },
        "id": "PHDd5XDdcK0Z",
        "outputId": "99f7dd35-927b-49db-a52d-5ec4c72a7a36"
      },
      "execution_count": null,
      "outputs": [
        {
          "output_type": "execute_result",
          "data": {
            "text/plain": [
              "                     time                             entity_id  \\\n",
              "0     2022-04-04 10:24:20  08228f50-144e-11ec-80c8-b1d8e607054f   \n",
              "1     2022-04-04 10:26:21  08228f50-144e-11ec-80c8-b1d8e607054f   \n",
              "2     2022-04-04 10:28:21  08228f50-144e-11ec-80c8-b1d8e607054f   \n",
              "3     2022-04-04 10:30:21  08228f50-144e-11ec-80c8-b1d8e607054f   \n",
              "4     2022-04-04 10:32:21  08228f50-144e-11ec-80c8-b1d8e607054f   \n",
              "...                   ...                                   ...   \n",
              "5032  2022-04-11 10:14:13  08228f50-144e-11ec-80c8-b1d8e607054f   \n",
              "5033  2022-04-11 10:16:13  08228f50-144e-11ec-80c8-b1d8e607054f   \n",
              "5034  2022-04-11 10:18:13  08228f50-144e-11ec-80c8-b1d8e607054f   \n",
              "5035  2022-04-11 10:20:13  08228f50-144e-11ec-80c8-b1d8e607054f   \n",
              "5036  2022-04-11 10:22:13  08228f50-144e-11ec-80c8-b1d8e607054f   \n",
              "\n",
              "                      ts2  ch2o  pm2_5  pm10  tvoc  co2  tmp    rh  cpm  db  \\\n",
              "0     2022-04-04 01:24:20    45     12    22   706  554    0  1839    9  44   \n",
              "1     2022-04-04 01:26:21    45     13    23   721  554    0  1842    1  42   \n",
              "2     2022-04-04 01:28:21    45     13    23   724  557    0  1843    1  43   \n",
              "3     2022-04-04 01:30:21    45     13    24   738  559    0  1845    7  45   \n",
              "4     2022-04-04 01:32:21    45     13    23   746  570    0  1847   12  38   \n",
              "...                   ...   ...    ...   ...   ...  ...  ...   ...  ...  ..   \n",
              "5032  2022-04-11 01:14:13    65      4     6  2107  534    0  2103    0  38   \n",
              "5033  2022-04-11 01:16:13    66      4     6  2161  546    0  2107    0  43   \n",
              "5034  2022-04-11 01:18:13    67      4     6  2213  560    0  2109    0  38   \n",
              "5035  2022-04-11 01:20:13    68      4     6  2273  574    0  2107    0  45   \n",
              "5036  2022-04-11 01:22:13    68      4     6  2318  585    0  2107    0  41   \n",
              "\n",
              "      co  stink  no2  h2s  nh3            new_date              date  \n",
              "0     42     39    1    0    0 2022-04-04 10:24:20  2022-04-04 10:24  \n",
              "1     27     39    1    0    0 2022-04-04 10:26:21  2022-04-04 10:26  \n",
              "2     34     39    1    0    0 2022-04-04 10:28:21  2022-04-04 10:28  \n",
              "3     30     39    1    0    0 2022-04-04 10:30:21  2022-04-04 10:30  \n",
              "4     27     39    1    0    0 2022-04-04 10:32:21  2022-04-04 10:32  \n",
              "...   ..    ...  ...  ...  ...                 ...               ...  \n",
              "5032  46     40    1    0    0 2022-04-11 10:14:13  2022-04-11 10:14  \n",
              "5033  28     40    1    0    0 2022-04-11 10:16:13  2022-04-11 10:16  \n",
              "5034  33     40    1    0    0 2022-04-11 10:18:13  2022-04-11 10:18  \n",
              "5035  39     40    1    0    0 2022-04-11 10:20:13  2022-04-11 10:20  \n",
              "5036  30     40    1    0    1 2022-04-11 10:22:13  2022-04-11 10:22  \n",
              "\n",
              "[5037 rows x 19 columns]"
            ],
            "text/html": [
              "\n",
              "  <div id=\"df-50189697-ca38-445f-9a4a-8ecad915e112\">\n",
              "    <div class=\"colab-df-container\">\n",
              "      <div>\n",
              "<style scoped>\n",
              "    .dataframe tbody tr th:only-of-type {\n",
              "        vertical-align: middle;\n",
              "    }\n",
              "\n",
              "    .dataframe tbody tr th {\n",
              "        vertical-align: top;\n",
              "    }\n",
              "\n",
              "    .dataframe thead th {\n",
              "        text-align: right;\n",
              "    }\n",
              "</style>\n",
              "<table border=\"1\" class=\"dataframe\">\n",
              "  <thead>\n",
              "    <tr style=\"text-align: right;\">\n",
              "      <th></th>\n",
              "      <th>time</th>\n",
              "      <th>entity_id</th>\n",
              "      <th>ts2</th>\n",
              "      <th>ch2o</th>\n",
              "      <th>pm2_5</th>\n",
              "      <th>pm10</th>\n",
              "      <th>tvoc</th>\n",
              "      <th>co2</th>\n",
              "      <th>tmp</th>\n",
              "      <th>rh</th>\n",
              "      <th>cpm</th>\n",
              "      <th>db</th>\n",
              "      <th>co</th>\n",
              "      <th>stink</th>\n",
              "      <th>no2</th>\n",
              "      <th>h2s</th>\n",
              "      <th>nh3</th>\n",
              "      <th>new_date</th>\n",
              "      <th>date</th>\n",
              "    </tr>\n",
              "  </thead>\n",
              "  <tbody>\n",
              "    <tr>\n",
              "      <th>0</th>\n",
              "      <td>2022-04-04 10:24:20</td>\n",
              "      <td>08228f50-144e-11ec-80c8-b1d8e607054f</td>\n",
              "      <td>2022-04-04 01:24:20</td>\n",
              "      <td>45</td>\n",
              "      <td>12</td>\n",
              "      <td>22</td>\n",
              "      <td>706</td>\n",
              "      <td>554</td>\n",
              "      <td>0</td>\n",
              "      <td>1839</td>\n",
              "      <td>9</td>\n",
              "      <td>44</td>\n",
              "      <td>42</td>\n",
              "      <td>39</td>\n",
              "      <td>1</td>\n",
              "      <td>0</td>\n",
              "      <td>0</td>\n",
              "      <td>2022-04-04 10:24:20</td>\n",
              "      <td>2022-04-04 10:24</td>\n",
              "    </tr>\n",
              "    <tr>\n",
              "      <th>1</th>\n",
              "      <td>2022-04-04 10:26:21</td>\n",
              "      <td>08228f50-144e-11ec-80c8-b1d8e607054f</td>\n",
              "      <td>2022-04-04 01:26:21</td>\n",
              "      <td>45</td>\n",
              "      <td>13</td>\n",
              "      <td>23</td>\n",
              "      <td>721</td>\n",
              "      <td>554</td>\n",
              "      <td>0</td>\n",
              "      <td>1842</td>\n",
              "      <td>1</td>\n",
              "      <td>42</td>\n",
              "      <td>27</td>\n",
              "      <td>39</td>\n",
              "      <td>1</td>\n",
              "      <td>0</td>\n",
              "      <td>0</td>\n",
              "      <td>2022-04-04 10:26:21</td>\n",
              "      <td>2022-04-04 10:26</td>\n",
              "    </tr>\n",
              "    <tr>\n",
              "      <th>2</th>\n",
              "      <td>2022-04-04 10:28:21</td>\n",
              "      <td>08228f50-144e-11ec-80c8-b1d8e607054f</td>\n",
              "      <td>2022-04-04 01:28:21</td>\n",
              "      <td>45</td>\n",
              "      <td>13</td>\n",
              "      <td>23</td>\n",
              "      <td>724</td>\n",
              "      <td>557</td>\n",
              "      <td>0</td>\n",
              "      <td>1843</td>\n",
              "      <td>1</td>\n",
              "      <td>43</td>\n",
              "      <td>34</td>\n",
              "      <td>39</td>\n",
              "      <td>1</td>\n",
              "      <td>0</td>\n",
              "      <td>0</td>\n",
              "      <td>2022-04-04 10:28:21</td>\n",
              "      <td>2022-04-04 10:28</td>\n",
              "    </tr>\n",
              "    <tr>\n",
              "      <th>3</th>\n",
              "      <td>2022-04-04 10:30:21</td>\n",
              "      <td>08228f50-144e-11ec-80c8-b1d8e607054f</td>\n",
              "      <td>2022-04-04 01:30:21</td>\n",
              "      <td>45</td>\n",
              "      <td>13</td>\n",
              "      <td>24</td>\n",
              "      <td>738</td>\n",
              "      <td>559</td>\n",
              "      <td>0</td>\n",
              "      <td>1845</td>\n",
              "      <td>7</td>\n",
              "      <td>45</td>\n",
              "      <td>30</td>\n",
              "      <td>39</td>\n",
              "      <td>1</td>\n",
              "      <td>0</td>\n",
              "      <td>0</td>\n",
              "      <td>2022-04-04 10:30:21</td>\n",
              "      <td>2022-04-04 10:30</td>\n",
              "    </tr>\n",
              "    <tr>\n",
              "      <th>4</th>\n",
              "      <td>2022-04-04 10:32:21</td>\n",
              "      <td>08228f50-144e-11ec-80c8-b1d8e607054f</td>\n",
              "      <td>2022-04-04 01:32:21</td>\n",
              "      <td>45</td>\n",
              "      <td>13</td>\n",
              "      <td>23</td>\n",
              "      <td>746</td>\n",
              "      <td>570</td>\n",
              "      <td>0</td>\n",
              "      <td>1847</td>\n",
              "      <td>12</td>\n",
              "      <td>38</td>\n",
              "      <td>27</td>\n",
              "      <td>39</td>\n",
              "      <td>1</td>\n",
              "      <td>0</td>\n",
              "      <td>0</td>\n",
              "      <td>2022-04-04 10:32:21</td>\n",
              "      <td>2022-04-04 10:32</td>\n",
              "    </tr>\n",
              "    <tr>\n",
              "      <th>...</th>\n",
              "      <td>...</td>\n",
              "      <td>...</td>\n",
              "      <td>...</td>\n",
              "      <td>...</td>\n",
              "      <td>...</td>\n",
              "      <td>...</td>\n",
              "      <td>...</td>\n",
              "      <td>...</td>\n",
              "      <td>...</td>\n",
              "      <td>...</td>\n",
              "      <td>...</td>\n",
              "      <td>...</td>\n",
              "      <td>...</td>\n",
              "      <td>...</td>\n",
              "      <td>...</td>\n",
              "      <td>...</td>\n",
              "      <td>...</td>\n",
              "      <td>...</td>\n",
              "      <td>...</td>\n",
              "    </tr>\n",
              "    <tr>\n",
              "      <th>5032</th>\n",
              "      <td>2022-04-11 10:14:13</td>\n",
              "      <td>08228f50-144e-11ec-80c8-b1d8e607054f</td>\n",
              "      <td>2022-04-11 01:14:13</td>\n",
              "      <td>65</td>\n",
              "      <td>4</td>\n",
              "      <td>6</td>\n",
              "      <td>2107</td>\n",
              "      <td>534</td>\n",
              "      <td>0</td>\n",
              "      <td>2103</td>\n",
              "      <td>0</td>\n",
              "      <td>38</td>\n",
              "      <td>46</td>\n",
              "      <td>40</td>\n",
              "      <td>1</td>\n",
              "      <td>0</td>\n",
              "      <td>0</td>\n",
              "      <td>2022-04-11 10:14:13</td>\n",
              "      <td>2022-04-11 10:14</td>\n",
              "    </tr>\n",
              "    <tr>\n",
              "      <th>5033</th>\n",
              "      <td>2022-04-11 10:16:13</td>\n",
              "      <td>08228f50-144e-11ec-80c8-b1d8e607054f</td>\n",
              "      <td>2022-04-11 01:16:13</td>\n",
              "      <td>66</td>\n",
              "      <td>4</td>\n",
              "      <td>6</td>\n",
              "      <td>2161</td>\n",
              "      <td>546</td>\n",
              "      <td>0</td>\n",
              "      <td>2107</td>\n",
              "      <td>0</td>\n",
              "      <td>43</td>\n",
              "      <td>28</td>\n",
              "      <td>40</td>\n",
              "      <td>1</td>\n",
              "      <td>0</td>\n",
              "      <td>0</td>\n",
              "      <td>2022-04-11 10:16:13</td>\n",
              "      <td>2022-04-11 10:16</td>\n",
              "    </tr>\n",
              "    <tr>\n",
              "      <th>5034</th>\n",
              "      <td>2022-04-11 10:18:13</td>\n",
              "      <td>08228f50-144e-11ec-80c8-b1d8e607054f</td>\n",
              "      <td>2022-04-11 01:18:13</td>\n",
              "      <td>67</td>\n",
              "      <td>4</td>\n",
              "      <td>6</td>\n",
              "      <td>2213</td>\n",
              "      <td>560</td>\n",
              "      <td>0</td>\n",
              "      <td>2109</td>\n",
              "      <td>0</td>\n",
              "      <td>38</td>\n",
              "      <td>33</td>\n",
              "      <td>40</td>\n",
              "      <td>1</td>\n",
              "      <td>0</td>\n",
              "      <td>0</td>\n",
              "      <td>2022-04-11 10:18:13</td>\n",
              "      <td>2022-04-11 10:18</td>\n",
              "    </tr>\n",
              "    <tr>\n",
              "      <th>5035</th>\n",
              "      <td>2022-04-11 10:20:13</td>\n",
              "      <td>08228f50-144e-11ec-80c8-b1d8e607054f</td>\n",
              "      <td>2022-04-11 01:20:13</td>\n",
              "      <td>68</td>\n",
              "      <td>4</td>\n",
              "      <td>6</td>\n",
              "      <td>2273</td>\n",
              "      <td>574</td>\n",
              "      <td>0</td>\n",
              "      <td>2107</td>\n",
              "      <td>0</td>\n",
              "      <td>45</td>\n",
              "      <td>39</td>\n",
              "      <td>40</td>\n",
              "      <td>1</td>\n",
              "      <td>0</td>\n",
              "      <td>0</td>\n",
              "      <td>2022-04-11 10:20:13</td>\n",
              "      <td>2022-04-11 10:20</td>\n",
              "    </tr>\n",
              "    <tr>\n",
              "      <th>5036</th>\n",
              "      <td>2022-04-11 10:22:13</td>\n",
              "      <td>08228f50-144e-11ec-80c8-b1d8e607054f</td>\n",
              "      <td>2022-04-11 01:22:13</td>\n",
              "      <td>68</td>\n",
              "      <td>4</td>\n",
              "      <td>6</td>\n",
              "      <td>2318</td>\n",
              "      <td>585</td>\n",
              "      <td>0</td>\n",
              "      <td>2107</td>\n",
              "      <td>0</td>\n",
              "      <td>41</td>\n",
              "      <td>30</td>\n",
              "      <td>40</td>\n",
              "      <td>1</td>\n",
              "      <td>0</td>\n",
              "      <td>1</td>\n",
              "      <td>2022-04-11 10:22:13</td>\n",
              "      <td>2022-04-11 10:22</td>\n",
              "    </tr>\n",
              "  </tbody>\n",
              "</table>\n",
              "<p>5037 rows × 19 columns</p>\n",
              "</div>\n",
              "      <button class=\"colab-df-convert\" onclick=\"convertToInteractive('df-50189697-ca38-445f-9a4a-8ecad915e112')\"\n",
              "              title=\"Convert this dataframe to an interactive table.\"\n",
              "              style=\"display:none;\">\n",
              "        \n",
              "  <svg xmlns=\"http://www.w3.org/2000/svg\" height=\"24px\"viewBox=\"0 0 24 24\"\n",
              "       width=\"24px\">\n",
              "    <path d=\"M0 0h24v24H0V0z\" fill=\"none\"/>\n",
              "    <path d=\"M18.56 5.44l.94 2.06.94-2.06 2.06-.94-2.06-.94-.94-2.06-.94 2.06-2.06.94zm-11 1L8.5 8.5l.94-2.06 2.06-.94-2.06-.94L8.5 2.5l-.94 2.06-2.06.94zm10 10l.94 2.06.94-2.06 2.06-.94-2.06-.94-.94-2.06-.94 2.06-2.06.94z\"/><path d=\"M17.41 7.96l-1.37-1.37c-.4-.4-.92-.59-1.43-.59-.52 0-1.04.2-1.43.59L10.3 9.45l-7.72 7.72c-.78.78-.78 2.05 0 2.83L4 21.41c.39.39.9.59 1.41.59.51 0 1.02-.2 1.41-.59l7.78-7.78 2.81-2.81c.8-.78.8-2.07 0-2.86zM5.41 20L4 18.59l7.72-7.72 1.47 1.35L5.41 20z\"/>\n",
              "  </svg>\n",
              "      </button>\n",
              "      \n",
              "  <style>\n",
              "    .colab-df-container {\n",
              "      display:flex;\n",
              "      flex-wrap:wrap;\n",
              "      gap: 12px;\n",
              "    }\n",
              "\n",
              "    .colab-df-convert {\n",
              "      background-color: #E8F0FE;\n",
              "      border: none;\n",
              "      border-radius: 50%;\n",
              "      cursor: pointer;\n",
              "      display: none;\n",
              "      fill: #1967D2;\n",
              "      height: 32px;\n",
              "      padding: 0 0 0 0;\n",
              "      width: 32px;\n",
              "    }\n",
              "\n",
              "    .colab-df-convert:hover {\n",
              "      background-color: #E2EBFA;\n",
              "      box-shadow: 0px 1px 2px rgba(60, 64, 67, 0.3), 0px 1px 3px 1px rgba(60, 64, 67, 0.15);\n",
              "      fill: #174EA6;\n",
              "    }\n",
              "\n",
              "    [theme=dark] .colab-df-convert {\n",
              "      background-color: #3B4455;\n",
              "      fill: #D2E3FC;\n",
              "    }\n",
              "\n",
              "    [theme=dark] .colab-df-convert:hover {\n",
              "      background-color: #434B5C;\n",
              "      box-shadow: 0px 1px 3px 1px rgba(0, 0, 0, 0.15);\n",
              "      filter: drop-shadow(0px 1px 2px rgba(0, 0, 0, 0.3));\n",
              "      fill: #FFFFFF;\n",
              "    }\n",
              "  </style>\n",
              "\n",
              "      <script>\n",
              "        const buttonEl =\n",
              "          document.querySelector('#df-50189697-ca38-445f-9a4a-8ecad915e112 button.colab-df-convert');\n",
              "        buttonEl.style.display =\n",
              "          google.colab.kernel.accessAllowed ? 'block' : 'none';\n",
              "\n",
              "        async function convertToInteractive(key) {\n",
              "          const element = document.querySelector('#df-50189697-ca38-445f-9a4a-8ecad915e112');\n",
              "          const dataTable =\n",
              "            await google.colab.kernel.invokeFunction('convertToInteractive',\n",
              "                                                     [key], {});\n",
              "          if (!dataTable) return;\n",
              "\n",
              "          const docLinkHtml = 'Like what you see? Visit the ' +\n",
              "            '<a target=\"_blank\" href=https://colab.research.google.com/notebooks/data_table.ipynb>data table notebook</a>'\n",
              "            + ' to learn more about interactive tables.';\n",
              "          element.innerHTML = '';\n",
              "          dataTable['output_type'] = 'display_data';\n",
              "          await google.colab.output.renderOutput(dataTable, element);\n",
              "          const docLink = document.createElement('div');\n",
              "          docLink.innerHTML = docLinkHtml;\n",
              "          element.appendChild(docLink);\n",
              "        }\n",
              "      </script>\n",
              "    </div>\n",
              "  </div>\n",
              "  "
            ]
          },
          "metadata": {},
          "execution_count": 195
        }
      ]
    },
    {
      "cell_type": "markdown",
      "source": [
        "데이터프레임을 보면, 짝수분이다가 시간이 밀려 홀수분이 되고,   \n",
        "홀수분에서 짝수분이 될때도 시간이 밀려 짝수분이 된다.  \n",
        "11:20 11:22 11:25... 12:27 12:29 12:32  \n",
        "-> 해결 방안 : 홀수분일때 앞으로 땡겨 짝수분으로 만들어주고, 마지막 홀수분 이후 한 행 추가. (단순 홀수분일때 앞으로 땡기기만 하면 됨.)"
      ],
      "metadata": {
        "id": "o-NSPjwSW1fy"
      }
    },
    {
      "cell_type": "code",
      "source": [
        "a =df['date'].apply(lambda x: x.strftime('%Y%m%d%H%M'))"
      ],
      "metadata": {
        "id": "Mcwn1K0qbAMz"
      },
      "execution_count": null,
      "outputs": []
    },
    {
      "cell_type": "code",
      "source": [
        "import datetime\n",
        "for i in range(len(df['date'])):\n",
        "  if int(a[i][-2:])%2 ==1:\n",
        "    df['date'][i]=df['date'][i]+datetime.timedelta(minutes=1)"
      ],
      "metadata": {
        "id": "wy9Qjux_WbUO"
      },
      "execution_count": null,
      "outputs": []
    },
    {
      "cell_type": "code",
      "source": [
        "new_df = pd.date_range(start = '2022-04-04 10:24',            # 날짜 범위 시작\n",
        "                     end = '2022-04-11 10:22',                # 날짜 범위 끝\n",
        "                     freq = '2min',                           # 시간 간격( 2분 간격)\n",
        "                     tz = 'Asia/Seoul')                       # 시간대(timezone)"
      ],
      "metadata": {
        "id": "yk9WRl6oQU5I"
      },
      "execution_count": null,
      "outputs": []
    },
    {
      "cell_type": "code",
      "source": [
        "new_df=pd.DataFrame(new_df)\n",
        "new_df.columns=['date']\n",
        "new_df['date'] = new_df['date'].dt.to_period(freq = 'min')  #분까지 끊기"
      ],
      "metadata": {
        "colab": {
          "base_uri": "https://localhost:8080/"
        },
        "id": "95PQSV1lQ8rC",
        "outputId": "def5b13c-af4d-4343-eb92-cab2675c36ee"
      },
      "execution_count": null,
      "outputs": [
        {
          "output_type": "stream",
          "name": "stderr",
          "text": [
            "/usr/local/lib/python3.7/dist-packages/pandas/core/arrays/datetimes.py:1146: UserWarning: Converting to PeriodArray/Index representation will drop timezone information.\n",
            "  UserWarning,\n"
          ]
        }
      ]
    },
    {
      "cell_type": "code",
      "source": [
        "merge_outer = pd.merge(df,new_df, how='outer',on='date')\n",
        "merge_outer.sort_values(['date'],inplace=True)\n",
        "merge_outer.reset_index(drop=True,inplace=True)\n",
        "merge_outer.drop(['time','new_date','ts2','entity_id'],axis=1,inplace=True)"
      ],
      "metadata": {
        "id": "6rakC0aTSGOv"
      },
      "execution_count": null,
      "outputs": []
    },
    {
      "cell_type": "code",
      "source": [
        "merge_outer=merge_outer.set_index('date')\n",
        "merge_outer.isnull().sum()"
      ],
      "metadata": {
        "colab": {
          "base_uri": "https://localhost:8080/"
        },
        "id": "wtzEkamQZFyM",
        "outputId": "2f3834be-5645-476c-fb35-fe264e9af23e"
      },
      "execution_count": null,
      "outputs": [
        {
          "output_type": "execute_result",
          "data": {
            "text/plain": [
              "ch2o     3\n",
              "pm2_5    3\n",
              "pm10     3\n",
              "tvoc     3\n",
              "co2      3\n",
              "tmp      3\n",
              "rh       3\n",
              "cpm      3\n",
              "db       3\n",
              "co       3\n",
              "stink    3\n",
              "no2      3\n",
              "h2s      3\n",
              "nh3      3\n",
              "dtype: int64"
            ]
          },
          "metadata": {},
          "execution_count": 249
        }
      ]
    },
    {
      "cell_type": "code",
      "source": [
        "inter=merge_outer.interpolate()"
      ],
      "metadata": {
        "id": "cvOMKGPvc25y"
      },
      "execution_count": null,
      "outputs": []
    },
    {
      "cell_type": "code",
      "source": [
        "#확인\n",
        "inter.isnull().sum()"
      ],
      "metadata": {
        "colab": {
          "base_uri": "https://localhost:8080/"
        },
        "id": "igy03IQ-exwc",
        "outputId": "5aef411a-3aa6-4094-d551-d3728f8bccd3"
      },
      "execution_count": null,
      "outputs": [
        {
          "output_type": "execute_result",
          "data": {
            "text/plain": [
              "ch2o     0\n",
              "pm2_5    0\n",
              "pm10     0\n",
              "tvoc     0\n",
              "co2      0\n",
              "tmp      0\n",
              "rh       0\n",
              "cpm      0\n",
              "db       0\n",
              "co       0\n",
              "stink    0\n",
              "no2      0\n",
              "h2s      0\n",
              "nh3      0\n",
              "dtype: int64"
            ]
          },
          "metadata": {},
          "execution_count": 251
        }
      ]
    },
    {
      "cell_type": "code",
      "source": [
        "inter['date']"
      ],
      "metadata": {
        "colab": {
          "base_uri": "https://localhost:8080/",
          "height": 527
        },
        "id": "IWtOh1Nle42Y",
        "outputId": "00f3c46c-5405-4afd-e025-63838e9e9415"
      },
      "execution_count": null,
      "outputs": [
        {
          "output_type": "error",
          "ename": "KeyError",
          "evalue": "ignored",
          "traceback": [
            "\u001b[0;31m---------------------------------------------------------------------------\u001b[0m",
            "\u001b[0;31mKeyError\u001b[0m                                  Traceback (most recent call last)",
            "\u001b[0;32m/usr/local/lib/python3.7/dist-packages/pandas/core/indexes/base.py\u001b[0m in \u001b[0;36mget_loc\u001b[0;34m(self, key, method, tolerance)\u001b[0m\n\u001b[1;32m   3360\u001b[0m             \u001b[0;32mtry\u001b[0m\u001b[0;34m:\u001b[0m\u001b[0;34m\u001b[0m\u001b[0;34m\u001b[0m\u001b[0m\n\u001b[0;32m-> 3361\u001b[0;31m                 \u001b[0;32mreturn\u001b[0m \u001b[0mself\u001b[0m\u001b[0;34m.\u001b[0m\u001b[0m_engine\u001b[0m\u001b[0;34m.\u001b[0m\u001b[0mget_loc\u001b[0m\u001b[0;34m(\u001b[0m\u001b[0mcasted_key\u001b[0m\u001b[0;34m)\u001b[0m\u001b[0;34m\u001b[0m\u001b[0;34m\u001b[0m\u001b[0m\n\u001b[0m\u001b[1;32m   3362\u001b[0m             \u001b[0;32mexcept\u001b[0m \u001b[0mKeyError\u001b[0m \u001b[0;32mas\u001b[0m \u001b[0merr\u001b[0m\u001b[0;34m:\u001b[0m\u001b[0;34m\u001b[0m\u001b[0;34m\u001b[0m\u001b[0m\n",
            "\u001b[0;32m/usr/local/lib/python3.7/dist-packages/pandas/_libs/index.pyx\u001b[0m in \u001b[0;36mpandas._libs.index.IndexEngine.get_loc\u001b[0;34m()\u001b[0m\n",
            "\u001b[0;32m/usr/local/lib/python3.7/dist-packages/pandas/_libs/index.pyx\u001b[0m in \u001b[0;36mpandas._libs.index.IndexEngine.get_loc\u001b[0;34m()\u001b[0m\n",
            "\u001b[0;32mpandas/_libs/hashtable_class_helper.pxi\u001b[0m in \u001b[0;36mpandas._libs.hashtable.PyObjectHashTable.get_item\u001b[0;34m()\u001b[0m\n",
            "\u001b[0;32mpandas/_libs/hashtable_class_helper.pxi\u001b[0m in \u001b[0;36mpandas._libs.hashtable.PyObjectHashTable.get_item\u001b[0;34m()\u001b[0m\n",
            "\u001b[0;31mKeyError\u001b[0m: 'date'",
            "\nThe above exception was the direct cause of the following exception:\n",
            "\u001b[0;31mKeyError\u001b[0m                                  Traceback (most recent call last)",
            "\u001b[0;32m<ipython-input-254-d0aeb6d9d2ef>\u001b[0m in \u001b[0;36m<module>\u001b[0;34m()\u001b[0m\n\u001b[0;32m----> 1\u001b[0;31m \u001b[0minter\u001b[0m\u001b[0;34m[\u001b[0m\u001b[0;34m'date'\u001b[0m\u001b[0;34m]\u001b[0m\u001b[0;34m\u001b[0m\u001b[0;34m\u001b[0m\u001b[0m\n\u001b[0m",
            "\u001b[0;32m/usr/local/lib/python3.7/dist-packages/pandas/core/frame.py\u001b[0m in \u001b[0;36m__getitem__\u001b[0;34m(self, key)\u001b[0m\n\u001b[1;32m   3456\u001b[0m             \u001b[0;32mif\u001b[0m \u001b[0mself\u001b[0m\u001b[0;34m.\u001b[0m\u001b[0mcolumns\u001b[0m\u001b[0;34m.\u001b[0m\u001b[0mnlevels\u001b[0m \u001b[0;34m>\u001b[0m \u001b[0;36m1\u001b[0m\u001b[0;34m:\u001b[0m\u001b[0;34m\u001b[0m\u001b[0;34m\u001b[0m\u001b[0m\n\u001b[1;32m   3457\u001b[0m                 \u001b[0;32mreturn\u001b[0m \u001b[0mself\u001b[0m\u001b[0;34m.\u001b[0m\u001b[0m_getitem_multilevel\u001b[0m\u001b[0;34m(\u001b[0m\u001b[0mkey\u001b[0m\u001b[0;34m)\u001b[0m\u001b[0;34m\u001b[0m\u001b[0;34m\u001b[0m\u001b[0m\n\u001b[0;32m-> 3458\u001b[0;31m             \u001b[0mindexer\u001b[0m \u001b[0;34m=\u001b[0m \u001b[0mself\u001b[0m\u001b[0;34m.\u001b[0m\u001b[0mcolumns\u001b[0m\u001b[0;34m.\u001b[0m\u001b[0mget_loc\u001b[0m\u001b[0;34m(\u001b[0m\u001b[0mkey\u001b[0m\u001b[0;34m)\u001b[0m\u001b[0;34m\u001b[0m\u001b[0;34m\u001b[0m\u001b[0m\n\u001b[0m\u001b[1;32m   3459\u001b[0m             \u001b[0;32mif\u001b[0m \u001b[0mis_integer\u001b[0m\u001b[0;34m(\u001b[0m\u001b[0mindexer\u001b[0m\u001b[0;34m)\u001b[0m\u001b[0;34m:\u001b[0m\u001b[0;34m\u001b[0m\u001b[0;34m\u001b[0m\u001b[0m\n\u001b[1;32m   3460\u001b[0m                 \u001b[0mindexer\u001b[0m \u001b[0;34m=\u001b[0m \u001b[0;34m[\u001b[0m\u001b[0mindexer\u001b[0m\u001b[0;34m]\u001b[0m\u001b[0;34m\u001b[0m\u001b[0;34m\u001b[0m\u001b[0m\n",
            "\u001b[0;32m/usr/local/lib/python3.7/dist-packages/pandas/core/indexes/base.py\u001b[0m in \u001b[0;36mget_loc\u001b[0;34m(self, key, method, tolerance)\u001b[0m\n\u001b[1;32m   3361\u001b[0m                 \u001b[0;32mreturn\u001b[0m \u001b[0mself\u001b[0m\u001b[0;34m.\u001b[0m\u001b[0m_engine\u001b[0m\u001b[0;34m.\u001b[0m\u001b[0mget_loc\u001b[0m\u001b[0;34m(\u001b[0m\u001b[0mcasted_key\u001b[0m\u001b[0;34m)\u001b[0m\u001b[0;34m\u001b[0m\u001b[0;34m\u001b[0m\u001b[0m\n\u001b[1;32m   3362\u001b[0m             \u001b[0;32mexcept\u001b[0m \u001b[0mKeyError\u001b[0m \u001b[0;32mas\u001b[0m \u001b[0merr\u001b[0m\u001b[0;34m:\u001b[0m\u001b[0;34m\u001b[0m\u001b[0;34m\u001b[0m\u001b[0m\n\u001b[0;32m-> 3363\u001b[0;31m                 \u001b[0;32mraise\u001b[0m \u001b[0mKeyError\u001b[0m\u001b[0;34m(\u001b[0m\u001b[0mkey\u001b[0m\u001b[0;34m)\u001b[0m \u001b[0;32mfrom\u001b[0m \u001b[0merr\u001b[0m\u001b[0;34m\u001b[0m\u001b[0;34m\u001b[0m\u001b[0m\n\u001b[0m\u001b[1;32m   3364\u001b[0m \u001b[0;34m\u001b[0m\u001b[0m\n\u001b[1;32m   3365\u001b[0m         \u001b[0;32mif\u001b[0m \u001b[0mis_scalar\u001b[0m\u001b[0;34m(\u001b[0m\u001b[0mkey\u001b[0m\u001b[0;34m)\u001b[0m \u001b[0;32mand\u001b[0m \u001b[0misna\u001b[0m\u001b[0;34m(\u001b[0m\u001b[0mkey\u001b[0m\u001b[0;34m)\u001b[0m \u001b[0;32mand\u001b[0m \u001b[0;32mnot\u001b[0m \u001b[0mself\u001b[0m\u001b[0;34m.\u001b[0m\u001b[0mhasnans\u001b[0m\u001b[0;34m:\u001b[0m\u001b[0;34m\u001b[0m\u001b[0;34m\u001b[0m\u001b[0m\n",
            "\u001b[0;31mKeyError\u001b[0m: 'date'"
          ]
        }
      ]
    },
    {
      "cell_type": "code",
      "source": [
        "for i in range(len(inter)):\n",
        "  inter[]\n"
      ],
      "metadata": {
        "id": "rAunXAShff7p"
      },
      "execution_count": null,
      "outputs": []
    }
  ]
}