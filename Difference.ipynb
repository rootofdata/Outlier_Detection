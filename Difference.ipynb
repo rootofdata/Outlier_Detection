{
  "nbformat": 4,
  "nbformat_minor": 0,
  "metadata": {
    "colab": {
      "name": "Untitled1.ipynb",
      "provenance": [],
      "authorship_tag": "ABX9TyMDWeMmWD9Sf5KSuu7s276h",
      "include_colab_link": true
    },
    "kernelspec": {
      "name": "python3",
      "display_name": "Python 3"
    },
    "language_info": {
      "name": "python"
    }
  },
  "cells": [
    {
      "cell_type": "markdown",
      "metadata": {
        "id": "view-in-github",
        "colab_type": "text"
      },
      "source": [
        "<a href=\"https://colab.research.google.com/github/rootofdata/Outlier_Detection/blob/main/Difference.ipynb\" target=\"_parent\"><img src=\"https://colab.research.google.com/assets/colab-badge.svg\" alt=\"Open In Colab\"/></a>"
      ]
    },
    {
      "cell_type": "markdown",
      "source": [
        "# Unsupervised outlier detection for Time series data using LSTM + AE\n",
        "Feature : TMP,HMD,TVOC,CO,CO2,CH2O,PM10 (7 features)   \n",
        "Time : 2022-04-01 ~ 2022-05-16"
      ],
      "metadata": {
        "id": "2N4KVwTETsr2"
      }
    },
    {
      "cell_type": "markdown",
      "source": [
        "### Difference"
      ],
      "metadata": {
        "id": "2l5uByU7bB2S"
      }
    },
    {
      "cell_type": "code",
      "source": [
        "from statsmodels.tsa.stattools import adfuller, kpss"
      ],
      "metadata": {
        "id": "UVTJRIPO92GJ"
      },
      "execution_count": null,
      "outputs": []
    },
    {
      "cell_type": "code",
      "source": [
        "def adf_test(timeseries, pvalue = .05, regression_option = 'ct'):\n",
        "    print ('Results of Dickey-Fuller Test:')\n",
        "    dftest = adfuller(timeseries, autolag='AIC', regression = regression_option)\n",
        "    dfoutput = pd.Series(dftest[0:4], index=['Test Statistic','p-value','Lags Used','Number of Observations Used'])\n",
        "    for key,value in dftest[4].items():\n",
        "       dfoutput['Critical Value (%s)'%key] = value\n",
        "    print (dfoutput)\n",
        "    if dfoutput[1] < pvalue:\n",
        "       print(f\"정상시계열이 아니라는 귀무가설을 {pvalue*100}%의 유의수준으로 기각할 수 있으므로 해당 데이터는 정상성이 보장됩니다.\")\n",
        "    else:\n",
        "       print(f\"정상시계열이 아니라는 귀무가설을 {pvalue*100}%의 유의수준으로 기각할 수 없으므로 해당 데이터는 정상성을 보장하지 못합니다.\")"
      ],
      "metadata": {
        "id": "ElDK5H_lbB4K"
      },
      "execution_count": null,
      "outputs": []
    },
    {
      "cell_type": "code",
      "source": [
        "def adf_test1(timeseries, pvalue = .05, regression_option = 'ct'):\n",
        "    dftest = adfuller(timeseries, autolag='AIC', regression = regression_option)\n",
        "    dfoutput = pd.Series(dftest[0:4], index=['Test Statistic','p-value','Lags Used','Number of Observations Used'])\n",
        "    for key,value in dftest[4].items():\n",
        "       dfoutput['Critical Value (%s)'%key] = value\n",
        "    if dfoutput[1] < pvalue:\n",
        "       print(timeseries.name,f\"정상성이 보장됩니다.\")\n",
        "    else:\n",
        "       print(timeseries.name,f\"정상성을 보장하지 못합니다.\")"
      ],
      "metadata": {
        "id": "xDIqmJG5DnMJ"
      },
      "execution_count": null,
      "outputs": []
    },
    {
      "cell_type": "code",
      "source": [
        "adf_test(device11['PM2.5'])"
      ],
      "metadata": {
        "colab": {
          "base_uri": "https://localhost:8080/"
        },
        "id": "AgzRsLV3L8b_",
        "outputId": "dab914a1-3946-4a41-af9a-a0d4cde0ba6f"
      },
      "execution_count": null,
      "outputs": [
        {
          "output_type": "stream",
          "name": "stdout",
          "text": [
            "Results of Dickey-Fuller Test:\n",
            "Test Statistic                -7.458746e+00\n",
            "p-value                        1.267955e-09\n",
            "Lags Used                      4.900000e+01\n",
            "Number of Observations Used    2.680800e+04\n",
            "Critical Value (1%)           -3.959108e+00\n",
            "Critical Value (5%)           -3.410654e+00\n",
            "Critical Value (10%)          -3.127146e+00\n",
            "dtype: float64\n",
            "정상시계열이 아니라는 귀무가설을 5.0%의 유의수준으로 기각할 수 있으므로 해당 데이터는 정상성이 보장됩니다.\n"
          ]
        }
      ]
    },
    {
      "cell_type": "markdown",
      "source": [
        "https://signature95.tistory.com/22 참고"
      ],
      "metadata": {
        "id": "K8HzL2uB-CRe"
      }
    },
    {
      "cell_type": "code",
      "source": [
        "for i in range(14):\n",
        "  adf_test1(device11.iloc[:,3+i])"
      ],
      "metadata": {
        "colab": {
          "base_uri": "https://localhost:8080/"
        },
        "id": "Pvot-aY1LqvA",
        "outputId": "6dee78b8-b209-4e1c-f055-7c48c4e30378"
      },
      "execution_count": null,
      "outputs": [
        {
          "output_type": "stream",
          "name": "stdout",
          "text": [
            "CH2O 정상성이 보장됩니다.\n",
            "PM2.5 정상성이 보장됩니다.\n",
            "PM10 정상성이 보장됩니다.\n",
            "TVOC 정상성이 보장됩니다.\n",
            "CO2 정상성이 보장됩니다.\n",
            "Temperature 정상성이 보장됩니다.\n",
            "Humidity 정상성이 보장됩니다.\n",
            "Radioactivity 정상성이 보장됩니다.\n",
            "Sound 정상성이 보장됩니다.\n",
            "CO 정상성을 보장하지 못합니다.\n",
            "Stink 정상성이 보장됩니다.\n",
            "NO2 정상성을 보장하지 못합니다.\n",
            "H2S 정상성을 보장하지 못합니다.\n",
            "NH3 정상성을 보장하지 못합니다.\n"
          ]
        }
      ]
    },
    {
      "cell_type": "markdown",
      "source": [
        "device11로 하였을 경우, CO,NO2,H2S,NH3를 제외한 모든 부분에서 정상성을 만족한다."
      ],
      "metadata": {
        "id": "p_q7dn1zQU1g"
      }
    },
    {
      "cell_type": "code",
      "source": [
        "diff_data=d11_1.copy()"
      ],
      "metadata": {
        "id": "YL9tC3JeQkLq"
      },
      "execution_count": null,
      "outputs": []
    },
    {
      "cell_type": "code",
      "source": [
        "# 전체 1차 차분\n",
        "for i in range(14):\n",
        "  diff_data.iloc[:,3+i]=diff_data.iloc[:,3+i].replace(diff_data.iloc[:,3+i].diff().dropna())"
      ],
      "metadata": {
        "id": "OmasTK4_I9X3"
      },
      "execution_count": null,
      "outputs": []
    },
    {
      "cell_type": "code",
      "source": [
        "for i in range(14):\n",
        "  adf_test1(diff_data.iloc[:,3+i])"
      ],
      "metadata": {
        "colab": {
          "base_uri": "https://localhost:8080/"
        },
        "id": "MU5KwdJ6KXQC",
        "outputId": "9d817788-44c2-4dbb-afac-89279f952f60"
      },
      "execution_count": null,
      "outputs": [
        {
          "output_type": "stream",
          "name": "stdout",
          "text": [
            "CH2O 정상성을 보장하지 못합니다.\n",
            "PM2.5 정상성을 보장하지 못합니다.\n",
            "PM10 정상성을 보장하지 못합니다.\n",
            "TVOC 정상성을 보장하지 못합니다.\n",
            "CO2 정상성이 보장됩니다.\n",
            "Temperature 정상성을 보장하지 못합니다.\n",
            "Humidity 정상성을 보장하지 못합니다.\n",
            "Radioactivity 정상성이 보장됩니다.\n",
            "Sound 정상성이 보장됩니다.\n",
            "CO 정상성을 보장하지 못합니다.\n",
            "Stink 정상성을 보장하지 못합니다.\n",
            "NO2 정상성을 보장하지 못합니다.\n",
            "H2S 정상성을 보장하지 못합니다.\n",
            "NH3 정상성을 보장하지 못합니다.\n"
          ]
        }
      ]
    },
    {
      "cell_type": "code",
      "source": [
        "def diff1(timeseries, pvalue = .05, regression_option = 'ct'):\n",
        "    dftest = adfuller(timeseries, autolag='AIC', regression = regression_option)\n",
        "    dfoutput = pd.Series(dftest[0:4], index=['Test Statistic','p-value','Lags Used','Number of Observations Used'])\n",
        "    for key,value in dftest[4].items():\n",
        "       dfoutput['Critical Value (%s)'%key] = value\n",
        "    if dfoutput[1] < pvalue:\n",
        "       timeseries=timeseries\n",
        "    else:\n",
        "       timeseries=timeseries.replace(timeseries.diff(1).dropna())\n",
        "def diff2(timeseries, pvalue = .05, regression_option = 'ct'):\n",
        "    dftest = adfuller(timeseries, autolag='AIC', regression = regression_option)\n",
        "    dfoutput = pd.Series(dftest[0:4], index=['Test Statistic','p-value','Lags Used','Number of Observations Used'])\n",
        "    for key,value in dftest[4].items():\n",
        "       dfoutput['Critical Value (%s)'%key] = value\n",
        "    if dfoutput[1] < pvalue:\n",
        "       timeseries=timeseries\n",
        "    else:\n",
        "       timeseries=timeseries.replace(timeseries.diff().diff().dropna())"
      ],
      "metadata": {
        "id": "AmISmWMuQrTw"
      },
      "execution_count": null,
      "outputs": []
    },
    {
      "cell_type": "code",
      "source": [
        "for i in range(14):\n",
        "  diff1(diff_data.iloc[:,3+i])\n",
        "  diff2(diff_data.iloc[:,3+i])"
      ],
      "metadata": {
        "id": "-sKthj6ARE4q"
      },
      "execution_count": null,
      "outputs": []
    },
    {
      "cell_type": "code",
      "source": [
        "for i in range(14):\n",
        "  adf_test1(diff_data.iloc[:,3+i])"
      ],
      "metadata": {
        "colab": {
          "base_uri": "https://localhost:8080/"
        },
        "id": "ZUF97-AaRKxW",
        "outputId": "3e9b8820-bd2a-4905-d159-5872baaeca93"
      },
      "execution_count": null,
      "outputs": [
        {
          "output_type": "stream",
          "name": "stdout",
          "text": [
            "CH2O 정상성을 보장하지 못합니다.\n",
            "PM2.5 정상성을 보장하지 못합니다.\n",
            "PM10 정상성을 보장하지 못합니다.\n",
            "TVOC 정상성을 보장하지 못합니다.\n",
            "CO2 정상성이 보장됩니다.\n",
            "Temperature 정상성을 보장하지 못합니다.\n",
            "Humidity 정상성을 보장하지 못합니다.\n",
            "Radioactivity 정상성이 보장됩니다.\n",
            "Sound 정상성이 보장됩니다.\n",
            "CO 정상성을 보장하지 못합니다.\n",
            "Stink 정상성을 보장하지 못합니다.\n",
            "NO2 정상성을 보장하지 못합니다.\n",
            "H2S 정상성을 보장하지 못합니다.\n",
            "NH3 정상성을 보장하지 못합니다.\n"
          ]
        }
      ]
    },
    {
      "cell_type": "markdown",
      "source": [
        "\n",
        "device11로 하면 정상성 잘 만족하는데, 쪼개서 하면 좀 정상성 만족을 못하는데 ? 당연히 기간이 짧아서 그런가"
      ],
      "metadata": {
        "id": "ryXUGuI_TBaP"
      }
    },
    {
      "cell_type": "code",
      "source": [
        "plt.figure(figsize=(8,3)) \n",
        "plt.plot(d11_1['PM2.5'].values, alpha=.7) \n",
        "plt.hlines(y=d11_1['PM2.5'].mean(), xmin=-50, xmax=1500, colors='red', linestyles='dashed') \n",
        "plt.show()"
      ],
      "metadata": {
        "colab": {
          "base_uri": "https://localhost:8080/",
          "height": 221
        },
        "id": "oF8ZELbc-jle",
        "outputId": "076a2729-e1e9-4e57-bf1b-21c5db2b7e93"
      },
      "execution_count": null,
      "outputs": [
        {
          "output_type": "display_data",
          "data": {
            "text/plain": [
              "<Figure size 576x216 with 1 Axes>"
            ],
            "image/png": "[encoded data removed]"
          },
          "metadata": {}
        }
      ]
    },
    {
      "cell_type": "code",
      "source": [
        "plt.figure(figsize=(8,3)) \n",
        "plt.plot(diff_data1.values, alpha=.7) \n",
        "plt.hlines(y=diff_data1.mean(), xmin=-50, xmax=1500, colors='red', linestyles='dashed') \n",
        "plt.show()"
      ],
      "metadata": {
        "colab": {
          "base_uri": "https://localhost:8080/",
          "height": 221
        },
        "id": "R-IrYGQ8-eX1",
        "outputId": "b4e5fcc5-ea6d-40c7-fd94-bd8401d0e209"
      },
      "execution_count": null,
      "outputs": [
        {
          "output_type": "display_data",
          "data": {
            "text/plain": [
              "<Figure size 576x216 with 1 Axes>"
            ],
            "image/png": "[encoded data removed]"
          },
          "metadata": {}
        }
      ]
    },
    {
      "cell_type": "markdown",
      "source": [
        "정상성 만족 못하면?-> 로그 이후 차분 해야하나??"
      ],
      "metadata": {
        "id": "1nsXuMY3TS2j"
      }
    }
  ]
}